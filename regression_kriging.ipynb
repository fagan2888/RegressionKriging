{
 "cells": [
  {
   "cell_type": "code",
   "execution_count": 1,
   "metadata": {
    "colab": {
     "base_uri": "https://localhost:8080/",
     "height": 176
    },
    "colab_type": "code",
    "id": "RiD7Gn14YDeA",
    "outputId": "046eba19-12c0-448b-977d-2cf525e5aa2a"
   },
   "outputs": [
    {
     "name": "stdout",
     "output_type": "stream",
     "text": [
      "Collecting pykrige\n",
      "\u001b[?25l  Downloading https://files.pythonhosted.org/packages/1f/98/ae0e59d2fdb3e48ad7faa2f5598439da2ed8925fcf06435648a5f7403b74/PyKrige-1.4.1.tar.gz (609kB)\n",
      "\u001b[K    100% |████████████████████████████████| 614kB 12.5MB/s \n",
      "\u001b[?25hBuilding wheels for collected packages: pykrige\n",
      "  Building wheel for pykrige (setup.py) ... \u001b[?25ldone\n",
      "\u001b[?25h  Stored in directory: /root/.cache/pip/wheels/7c/9c/c8/5f3dcdabfda6ca74f67a57dc6bfbca1956bbb55936025fa5d7\n",
      "Successfully built pykrige\n",
      "Installing collected packages: pykrige\n",
      "Successfully installed pykrige-1.4.1\n"
     ]
    }
   ],
   "source": [
    "!pip install pykrige\n"
   ]
  },
  {
   "cell_type": "code",
   "execution_count": 0,
   "metadata": {
    "colab": {},
    "colab_type": "code",
    "id": "jzO14LSDYfET"
   },
   "outputs": [],
   "source": [
    "import sys\n",
    "import numpy as np\n",
    "import pandas as pd\n",
    "from pykrige.rk import RegressionKriging\n",
    "from pykrige.compat import train_test_split\n",
    "from scipy.spatial import distance\n",
    "\n",
    "svr_model = SVR(C=0.1)\n",
    "rf_model = RandomForestRegressor(n_estimators=100)\n",
    "lr_model = LinearRegression(normalize=True, copy_X=True, fit_intercept=True)"
   ]
  },
  {
   "cell_type": "code",
   "execution_count": 0,
   "metadata": {
    "colab": {},
    "colab_type": "code",
    "id": "umRo0APHZhpp"
   },
   "outputs": [],
   "source": [
    "models = [svr_model, rf_model, lr_model]\n"
   ]
  },
  {
   "cell_type": "code",
   "execution_count": 0,
   "metadata": {
    "colab": {},
    "colab_type": "code",
    "id": "3f7VtqeFZrgI"
   },
   "outputs": [],
   "source": [
    "re_df = pd.read_excel('https://archive.ics.uci.edu/ml/machine-learning-databases/00477/Real%20estate%20valuation%20data%20set.xlsx')"
   ]
  },
  {
   "cell_type": "code",
   "execution_count": 0,
   "metadata": {
    "colab": {},
    "colab_type": "code",
    "id": "gr10oDnCc7wM"
   },
   "outputs": [],
   "source": [
    "re_df['X5 latitude'] = re_df['X5 latitude'].astype(int)\n",
    "re_df['X6 longitude'] = re_df['X6 longitude'].astype(int)"
   ]
  },
  {
   "cell_type": "code",
   "execution_count": 0,
   "metadata": {
    "colab": {},
    "colab_type": "code",
    "id": "SVdzk_QHetjs"
   },
   "outputs": [],
   "source": [
    "p = np.array(re_df[['X3 distance to the nearest MRT station', 'X4 number of convenience stores']].values)\n",
    "x = np.array(re_df[['X5 latitude', 'X6 longitude']])\n",
    "target = np.array(re_df[['Y house price of unit area']].values)\n",
    "target = target.reshape(414,)"
   ]
  },
  {
   "cell_type": "code",
   "execution_count": 196,
   "metadata": {
    "colab": {
     "base_uri": "https://localhost:8080/",
     "height": 34
    },
    "colab_type": "code",
    "id": "5L8jy8hwi890",
    "outputId": "1fcf03eb-c367-455f-e41a-ff9c210ccf84"
   },
   "outputs": [
    {
     "data": {
      "text/plain": [
       "((414, 2), (414,))"
      ]
     },
     "execution_count": 196,
     "metadata": {
      "tags": []
     },
     "output_type": "execute_result"
    }
   ],
   "source": [
    "p.shape, target.shape"
   ]
  },
  {
   "cell_type": "code",
   "execution_count": 0,
   "metadata": {
    "colab": {},
    "colab_type": "code",
    "id": "i7PxTUFle8Fn"
   },
   "outputs": [],
   "source": [
    "p_train, p_test, x_train, x_test, target_train, target_test \\\n",
    "    = train_test_split(p, x, target, test_size=0.3, random_state=42)\n"
   ]
  },
  {
   "cell_type": "code",
   "execution_count": 198,
   "metadata": {
    "colab": {
     "base_uri": "https://localhost:8080/",
     "height": 34
    },
    "colab_type": "code",
    "id": "g3Q-nAJOhgdp",
    "outputId": "09b92bda-0362-426c-de8b-f0ced0be59e3"
   },
   "outputs": [
    {
     "data": {
      "text/plain": [
       "((289, 2), (414, 2), (125, 2))"
      ]
     },
     "execution_count": 198,
     "metadata": {
      "tags": []
     },
     "output_type": "execute_result"
    }
   ],
   "source": [
    "x_train.shape,x.shape,x_test.shape"
   ]
  },
  {
   "cell_type": "code",
   "execution_count": 199,
   "metadata": {
    "colab": {
     "base_uri": "https://localhost:8080/",
     "height": 392
    },
    "colab_type": "code",
    "id": "ycxlHWiwe9QZ",
    "outputId": "da477b62-284a-461e-adab-5c4ac3f212a8"
   },
   "outputs": [
    {
     "name": "stdout",
     "output_type": "stream",
     "text": [
      "========================================\n",
      "regression model: SVR\n",
      "Finished learning regression model\n",
      "Finished kriging residuals\n",
      "Regression Score:  -0.021381103143307767\n",
      "RK score:  0.6465348105488453\n",
      "========================================\n",
      "regression model: RandomForestRegressor\n",
      "Finished learning regression model\n",
      "Finished kriging residuals\n",
      "Regression Score:  0.7143559088236339\n",
      "RK score:  0.7172340935626569\n",
      "========================================\n",
      "regression model: LinearRegression\n",
      "Finished learning regression model\n",
      "Finished kriging residuals\n",
      "Regression Score:  0.47799496960821225\n"
     ]
    },
    {
     "name": "stderr",
     "output_type": "stream",
     "text": [
      "/usr/local/lib/python3.6/dist-packages/sklearn/svm/base.py:196: FutureWarning: The default value of gamma will change from 'auto' to 'scale' in version 0.22 to account better for unscaled features. Set gamma explicitly to 'auto' or 'scale' to avoid this warning.\n",
      "  \"avoid this warning.\", FutureWarning)\n"
     ]
    },
    {
     "name": "stdout",
     "output_type": "stream",
     "text": [
      "RK score:  0.6435081037885819\n"
     ]
    }
   ],
   "source": [
    "for m in models:\n",
    "    print('=' * 40)\n",
    "    print('regression model:', m.__class__.__name__)\n",
    "    m_rk = RegressionKriging(regression_model=m, n_closest_points=3)\n",
    "    m_rk.fit(p_train, x_train, target_train)\n",
    "    print('Regression Score: ', m_rk.regression_model.score(p_test, target_test))\n",
    "    print('RK score: ', m_rk.score(p_test, x_test, target_test))\n"
   ]
  },
  {
   "cell_type": "code",
   "execution_count": 0,
   "metadata": {
    "colab": {},
    "colab_type": "code",
    "id": "AnfkqziagBL-"
   },
   "outputs": [],
   "source": [
    "import sys\n",
    "from sklearn.datasets import fetch_california_housing\n",
    "\n",
    "try:\n",
    "    housing = fetch_california_housing()\n",
    "except PermissionError:\n",
    "    # this dataset can occasionally fail to download on Windows\n",
    "    sys.exit(0)\n",
    "\n",
    "# take the first 5000 as Kriging is memory intensive\n",
    "\n",
    "x = housing['data'][:414, -2:]\n"
   ]
  },
  {
   "cell_type": "code",
   "execution_count": 183,
   "metadata": {
    "colab": {
     "base_uri": "https://localhost:8080/",
     "height": 34
    },
    "colab_type": "code",
    "id": "IUaT5IXxgdrk",
    "outputId": "98d74992-283b-4760-c444-7f8a655bf9b4"
   },
   "outputs": [
    {
     "data": {
      "text/plain": [
       "(414, 2)"
      ]
     },
     "execution_count": 183,
     "metadata": {
      "tags": []
     },
     "output_type": "execute_result"
    }
   ],
   "source": [
    "x.shape"
   ]
  },
  {
   "cell_type": "code",
   "execution_count": 0,
   "metadata": {
    "colab": {},
    "colab_type": "code",
    "id": "zVEezMnWgm2E"
   },
   "outputs": [],
   "source": [
    "x = y"
   ]
  },
  {
   "cell_type": "code",
   "execution_count": 105,
   "metadata": {
    "colab": {
     "base_uri": "https://localhost:8080/",
     "height": 34
    },
    "colab_type": "code",
    "id": "bG3W-KrVi3yo",
    "outputId": "b7381566-8151-44fe-effa-4f3ff11c56ee"
   },
   "outputs": [
    {
     "data": {
      "text/plain": [
       "(5000,)"
      ]
     },
     "execution_count": 105,
     "metadata": {
      "tags": []
     },
     "output_type": "execute_result"
    }
   ],
   "source": [
    "target.shape"
   ]
  },
  {
   "cell_type": "code",
   "execution_count": 0,
   "metadata": {
    "colab": {},
    "colab_type": "code",
    "id": "h50tJ_Y4i5po"
   },
   "outputs": [],
   "source": []
  }
 ],
 "metadata": {
  "colab": {
   "name": "regression_kriging.ipynb",
   "provenance": [],
   "version": "0.3.2"
  },
  "kernelspec": {
   "display_name": "Python 3",
   "language": "python",
   "name": "python3"
  },
  "language_info": {
   "codemirror_mode": {
    "name": "ipython",
    "version": 3
   },
   "file_extension": ".py",
   "mimetype": "text/x-python",
   "name": "python",
   "nbconvert_exporter": "python",
   "pygments_lexer": "ipython3",
   "version": "3.6.4"
  }
 },
 "nbformat": 4,
 "nbformat_minor": 1
}
